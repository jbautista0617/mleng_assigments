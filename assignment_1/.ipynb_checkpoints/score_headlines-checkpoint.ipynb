{
 "cells": [
  {
   "cell_type": "code",
   "execution_count": 1,
   "id": "7ba1592d-7200-4e6e-97c2-7feb90fafdfe",
   "metadata": {},
   "outputs": [],
   "source": [
    "#this notebook will load the model and test the result by first converting the headline to embedding, then testing the mebeddings"
   ]
  },
  {
   "cell_type": "code",
   "execution_count": 15,
   "id": "eafd8f1d-5aa8-434c-85ca-b71e977582ee",
   "metadata": {
    "tags": []
   },
   "outputs": [
    {
     "name": "stdout",
     "output_type": "stream",
     "text": [
      "Overwriting test1.py\n"
     ]
    }
   ],
   "source": [
    "%%writefile test1.py\n",
    "\n",
    "import pandas as pd\n",
    "import joblib\n",
    "from sentence_transformers import SentenceTransformer\n",
    "import sys\n",
    "import re\n",
    "from datetime import datetime\n",
    "\n",
    "def check_arguments():\n",
    "    pass\n",
    "\n",
    "def embed_headlines(headline_list):\n",
    "    embedder = SentenceTransformer(\"all-MiniLM-L6-v2\")\n",
    "    embeddings = embedder.encode(headline_list)\n",
    "    return embeddings\n",
    "\n",
    "def analyze_headline_sentiment(embeddings):\n",
    "    sentiment_model = joblib.load('svm.joblib')\n",
    "    sentiments = clf.predict(embeddings)\n",
    "\n",
    "    score_df = pd.DataFrame({\n",
    "        \"Sentiment\": sentiments,\n",
    "        \"Headline\": headlines_list\n",
    "    })\n",
    "\n",
    "    return score_df\n",
    "\n",
    "def extract_date(filename):\n",
    "    match = re.search(r\"\\d{4}-\\d{2}-\\d{2}\", filename)\n",
    "    if match:\n",
    "        date_part = match.group()\n",
    "        date = date_part.replace('-', '_')\n",
    "    else:\n",
    "        print(\"No date found in file; Using today's date.\")\n",
    "        date = datetime.datetime.today().strftime('%Y-%m-%d')\n",
    "\n",
    "    return date\n",
    "\n",
    "def main():\n",
    "    # Ensures arguments are correct\n",
    "    check_arguments()\n",
    "    filename = sys.argv[1]\n",
    "    source   = sys.argv[2]\n",
    "\n",
    "    # SentenceTransformer expects input as list of strings\n",
    "    headline_list = pd.read_csv(filename, delimiter='\\t', header=None)[0].tolist()\n",
    "    embeddings    = embed_headlines(headline_list)\n",
    "    score_df      = analyze_headline_sentiment(embeddings)\n",
    "\n",
    "    date = extract_date(filename)\n",
    "    score_df.to_csv(f'headlines_scores_{source}_{date}.txt', index=False, sep='\\t')\n",
    "\n",
    "if __name__ == \"__main__\":\n",
    "    main()"
   ]
  },
  {
   "cell_type": "code",
   "execution_count": null,
   "id": "f108016e-5474-46d8-9714-3cf5f8e652f4",
   "metadata": {},
   "outputs": [],
   "source": []
  }
 ],
 "metadata": {
  "kernelspec": {
   "display_name": "Python 3 (ipykernel)",
   "language": "python",
   "name": "python3"
  },
  "language_info": {
   "codemirror_mode": {
    "name": "ipython",
    "version": 3
   },
   "file_extension": ".py",
   "mimetype": "text/x-python",
   "name": "python",
   "nbconvert_exporter": "python",
   "pygments_lexer": "ipython3",
   "version": "3.9.21"
  }
 },
 "nbformat": 4,
 "nbformat_minor": 5
}
