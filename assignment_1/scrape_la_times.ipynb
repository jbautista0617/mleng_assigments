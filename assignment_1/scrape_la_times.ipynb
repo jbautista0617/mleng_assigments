{
 "cells": [
  {
   "cell_type": "markdown",
   "id": "bbf584fa-ee8d-48ca-80ef-7b0bb634bd59",
   "metadata": {},
   "source": [
    "# Get LA Times headlines"
   ]
  },
  {
   "cell_type": "code",
   "execution_count": 1,
   "id": "71f46e2d-3075-4b71-a374-b30402cb90f5",
   "metadata": {},
   "outputs": [],
   "source": [
    "from bs4 import BeautifulSoup"
   ]
  },
  {
   "cell_type": "code",
   "execution_count": null,
   "id": "72811055-07e5-4db6-8bd1-f434bab79567",
   "metadata": {},
   "outputs": [],
   "source": [
    "\"\"\"\n",
    "\n",
    "<a class=\"link\" href=\"https://www.latimes.com/california/live/2025-01-18/fire-winds-los-angeles-california-eaton-altadena-palisades-updates\">Southern California braces for latest threat of extreme fire weather</a>\n",
    "\n",
    "\"\""
   ]
  }
 ],
 "metadata": {
  "kernelspec": {
   "display_name": "Python 3 (ipykernel)",
   "language": "python",
   "name": "python3"
  },
  "language_info": {
   "codemirror_mode": {
    "name": "ipython",
    "version": 3
   },
   "file_extension": ".py",
   "mimetype": "text/x-python",
   "name": "python",
   "nbconvert_exporter": "python",
   "pygments_lexer": "ipython3",
   "version": "3.9.21"
  }
 },
 "nbformat": 4,
 "nbformat_minor": 5
}
